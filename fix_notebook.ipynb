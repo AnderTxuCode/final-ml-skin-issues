{
 "cells": [
  {
   "cell_type": "markdown",
   "id": "25f42e41",
   "metadata": {},
   "source": [
    "# Notebook Validation and Fix\n",
    "Este notebook ayudará a diagnosticar y arreglar el problema con el notebook original que no está en formato JSON válido."
   ]
  },
  {
   "cell_type": "code",
   "execution_count": null,
   "id": "bd36847f",
   "metadata": {},
   "outputs": [],
   "source": [
    "import json\n",
    "import nbformat\n",
    "import os\n",
    "from pathlib import Path"
   ]
  },
  {
   "cell_type": "markdown",
   "id": "e5040621",
   "metadata": {},
   "source": [
    "## 1. Verificar el Formato del Archivo\n",
    "Primero, vamos a intentar leer el archivo del notebook y ver su contenido actual:"
   ]
  },
  {
   "cell_type": "code",
   "execution_count": null,
   "id": "93cdad4d",
   "metadata": {},
   "outputs": [],
   "source": [
    "notebook_path = 'notebook.ipynb'\n",
    "\n",
    "try:\n",
    "    with open(notebook_path, 'r', encoding='utf-8') as f:\n",
    "        content = f.read()\n",
    "        print('Primeras 500 caracteres del archivo:')\n",
    "        print(content[:500])\n",
    "except Exception as e:\n",
    "    print(f'Error al leer el archivo: {str(e)}')"
   ]
  },
  {
   "cell_type": "markdown",
   "id": "dbd8d82b",
   "metadata": {},
   "source": [
    "## 2. Validar Estructura JSON\n",
    "Intentar cargar el archivo como JSON para ver si tiene una estructura válida:"
   ]
  },
  {
   "cell_type": "code",
   "execution_count": null,
   "id": "0e2ec44c",
   "metadata": {},
   "outputs": [],
   "source": [
    "try:\n",
    "    with open(notebook_path, 'r', encoding='utf-8') as f:\n",
    "        content = f.read()\n",
    "        json_data = json.loads(content)\n",
    "        print('El archivo es JSON válido')\n",
    "except json.JSONDecodeError as e:\n",
    "    print(f'Error de JSON: {str(e)}')\n",
    "except Exception as e:\n",
    "    print(f'Error: {str(e)}')"
   ]
  },
  {
   "cell_type": "markdown",
   "id": "20195584",
   "metadata": {},
   "source": [
    "## 3. Crear Nuevo Notebook\n",
    "Vamos a crear un nuevo notebook con el contenido del original pero en formato correcto:"
   ]
  },
  {
   "cell_type": "code",
   "execution_count": null,
   "id": "1a516ab1",
   "metadata": {},
   "outputs": [],
   "source": [
    "def create_new_notebook():\n",
    "    # Crear un nuevo notebook\n",
    "    nb = nbformat.v4.new_notebook()\n",
    "    \n",
    "    # Agregar las celdas originales pero en formato correcto\n",
    "    cells = [\n",
    "        nbformat.v4.new_markdown_cell('# PROCESO DE DETECCIÓN DE ENFERMEDADES DE PIEL MALIGNAS\\n+80.000 imagenes'),\n",
    "        nbformat.v4.new_markdown_cell('## EDA'),\n",
    "        nbformat.v4.new_code_cell(\n",
    "            '''import os\n",
    "import random\n",
    "import pandas as pd\n",
    "import matplotlib.pyplot as plt\n",
    "import seaborn as sns\n",
    "import tensorflow as tf\n",
    "\n",
    "df = pd.read_csv(\"metadata.csv\", low_memory=False)\n",
    "df.head()''')\n",
    "    ]\n",
    "    \n",
    "    nb.cells.extend(cells)\n",
    "    \n",
    "    # Guardar el nuevo notebook\n",
    "    with open('notebook_fixed.ipynb', 'w', encoding='utf-8') as f:\n",
    "        nbformat.write(nb, f)\n",
    "    \n",
    "    return 'notebook_fixed.ipynb creado correctamente'\n",
    "\n",
    "create_new_notebook()"
   ]
  },
  {
   "cell_type": "markdown",
   "id": "2b5e321b",
   "metadata": {},
   "source": [
    "## 4. Validar el Nuevo Notebook\n",
    "Verificar que el nuevo notebook es válido:"
   ]
  },
  {
   "cell_type": "code",
   "execution_count": null,
   "id": "aa9a31ce",
   "metadata": {},
   "outputs": [],
   "source": [
    "try:\n",
    "    nb = nbformat.read('notebook_fixed.ipynb', as_version=4)\n",
    "    print('El nuevo notebook es válido')\n",
    "    print(f'Número de celdas: {len(nb.cells)}')\n",
    "    for i, cell in enumerate(nb.cells, 1):\n",
    "        print(f'Celda {i}: {cell.cell_type}')\n",
    "except Exception as e:\n",
    "    print(f'Error al validar el nuevo notebook: {str(e)}')"
   ]
  },
  {
   "cell_type": "markdown",
   "id": "b2f0c6f9",
   "metadata": {},
   "source": [
    "## 5. Siguiente Paso\n",
    "Se ha creado un nuevo archivo `notebook_fixed.ipynb` con la estructura correcta. Ahora puedes:\n",
    "1. Cerrar este notebook\n",
    "2. Abrir `notebook_fixed.ipynb`\n",
    "3. Copiar el resto de tu código del notebook original al nuevo\n",
    "4. Borrar el notebook original y renombrar este como `notebook.ipynb`"
   ]
  }
 ],
 "metadata": {
  "language_info": {
   "name": "python"
  }
 },
 "nbformat": 4,
 "nbformat_minor": 5
}

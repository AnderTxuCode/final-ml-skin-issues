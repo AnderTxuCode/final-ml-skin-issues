{
 "cells": [
  {
   "cell_type": "markdown",
   "id": "982eaff7",
   "metadata": {},
   "source": [
    "PROCESO DE DETECCIÓN DE ENFERMEDADES DE PIEL MALIGNAS\n",
    "+80.000 imagenes"
   ]
  },
  {
   "cell_type": "markdown",
   "id": "5b2d7a8a",
   "metadata": {},
   "source": [
    "EDA"
   ]
  },
  {
   "cell_type": "code",
   "execution_count": null,
   "id": "242f0f8e",
   "metadata": {},
   "outputs": [],
   "source": [
    "import os\n",
    "import random\n",
    "import pandas as pd\n",
    "import matplotlib.pyplot as plt\n",
    "import seaborn as sns\n",
    "import tensorflow as tf\n",
    "\n",
    "\n",
    "\n",
    "df = pd.read_csv(\"metadata.csv\", low_memory=False)\n",
    "\n",
    "df.head()"
   ]
  },
  {
   "cell_type": "markdown",
   "id": "e51a8976",
   "metadata": {},
   "source": [
    "Información del dataset"
   ]
  },
  {
   "cell_type": "code",
   "execution_count": null,
   "id": "6141abdf",
   "metadata": {},
   "outputs": [],
   "source": [
    "df.info()"
   ]
  },
  {
   "cell_type": "markdown",
   "id": "e225d45d",
   "metadata": {},
   "source": [
    "Cantidad de columnas y filas"
   ]
  },
  {
   "cell_type": "code",
   "execution_count": null,
   "id": "a47bd5da",
   "metadata": {},
   "outputs": [],
   "source": [
    "df.shape"
   ]
  },
  {
   "cell_type": "markdown",
   "id": "596f4ff2",
   "metadata": {},
   "source": [
    "Cantidad de duplicados"
   ]
  },
  {
   "cell_type": "code",
   "execution_count": null,
   "id": "4beb4b70",
   "metadata": {},
   "outputs": [],
   "source": [
    "df.duplicated().sum()"
   ]
  },
  {
   "cell_type": "markdown",
   "id": "4432b722",
   "metadata": {},
   "source": [
    "No hay duplicados pero si los hubiera tendriamos que haber hecho"
   ]
  },
  {
   "cell_type": "code",
   "execution_count": null,
   "id": "0920c14c",
   "metadata": {},
   "outputs": [],
   "source": [
    "df = df.drop_duplicates().reset_index(drop = True)"
   ]
  },
  {
   "cell_type": "code",
   "execution_count": null,
   "id": "371d17b0",
   "metadata": {},
   "outputs": [],
   "source": [
    "df.head()"
   ]
  },
  {
   "cell_type": "markdown",
   "id": "e2805a24",
   "metadata": {},
   "source": [
    "Cantidad de valores por columna"
   ]
  },
  {
   "cell_type": "code",
   "execution_count": null,
   "id": "88515d7e",
   "metadata": {},
   "outputs": [],
   "source": [
    "df.isic_id.value_counts()\n",
    "df.attribution.value_counts()\n",
    "df.copyright_license.value_counts()\n",
    "df.acquisition_day.value_counts()\n",
    "df.age_approx.value_counts()\n",
    "df.anatom_site_general.value_counts()\n",
    "df.benign_malignant.value_counts()\n",
    "df.clin_size_long_diam_mm.value_counts()\n",
    "df.concomitant_biopsy.value_counts()\n",
    "df.dermoscopic_type.value_counts()\n",
    "df.diagnosis.value_counts()\n",
    "df.diagnosis_confirm_type.value_counts()\n",
    "df.family_hx_mm.value_counts()\n",
    "df.fitzpatrick_skin_type.value_counts()\n",
    "df.image_type.value_counts()\n",
    "df.lesion_id.value_counts()\n",
    "df.mel_class.value_counts()\n",
    "df.mel_mitotic_index.value_counts()\n",
    "df.mel_thick_mm.value_counts()\n",
    "df.mel_type.value_counts()\n",
    "df.mel_ulcer.value_counts()\n",
    "df.melanocytic.value_counts()\n",
    "df.nevus_type.value_counts()\n",
    "df.patient_id.value_counts()\n",
    "df.personal_hx_mm.value_counts()\n",
    "df.pixels_x.value_counts()\n",
    "df.pixels_y.value_counts()\n",
    "df.sex.value_counts()"
   ]
  },
  {
   "cell_type": "markdown",
   "id": "edf7e389",
   "metadata": {},
   "source": [
    "Registro de valores nulos y su porcentaje"
   ]
  },
  {
   "cell_type": "code",
   "execution_count": null,
   "id": "eb79628f",
   "metadata": {},
   "outputs": [],
   "source": [
    "total_registros = len(df)\n",
    "print(f'Total de registros: {total_registros}')\n",
    "\n",
    "valores_nulos = df.isnull().sum()\n",
    "porcentaje_nulos = (valores_nulos / total_registros * 100).round(2)\n",
    "\n",
    "nulos_df = pd.DataFrame({\n",
    "    'Valores Nulos': valores_nulos,\n",
    "    'Porcentaje': porcentaje_nulos\n",
    "})\n",
    "\n",
    "nulos_df"
   ]
  },
  {
   "cell_type": "markdown",
   "id": "11314cb8",
   "metadata": {},
   "source": [
    "Vamos a eliminar columnas en este caso que no hacen falta y alguna que tienen demasiados valores nulos por lo que son inservibles"
   ]
  },
  {
   "cell_type": "code",
   "execution_count": null,
   "id": "2ac41124",
   "metadata": {},
   "outputs": [],
   "source": [
    "df.isnull().sum()"
   ]
  },
  {
   "cell_type": "code",
   "execution_count": null,
   "id": "006fd7b9",
   "metadata": {},
   "outputs": [],
   "source": [
    "columns_to_drop = [\n",
    "    'clin_size_long_diam_mm', 'fitzpatrick_skin_type', 'mel_class', 'mel_mitotic_index',\n",
    "    'mel_thick_mm', 'mel_type', 'mel_ulcer', 'nevus_type',\n",
    "    'acquisition_day', 'family_hx_mm', 'personal_hx_mm', 'dermoscopic_type',\n",
    "    'isic_id', 'attribution', 'copyright_license', 'lesion_id', 'patient_id'\n",
    "]"
   ]
  },
  {
   "cell_type": "code",
   "execution_count": null,
   "id": "5f9b6859",
   "metadata": {},
   "outputs": [],
   "source": [
    "df = df.drop(columns=columns_to_drop)\n",
    "print(f\"Columnas después de eliminar: {df.columns.tolist()}\")"
   ]
  },
  {
   "cell_type": "markdown",
   "id": "0d603ea8",
   "metadata": {},
   "source": [
    "Vamos a hacer que los valores nulls tengan sentido y poner o desconocido o la mediana"
   ]
  },
  {
   "cell_type": "code",
   "execution_count": null,
   "id": "cce0022a",
   "metadata": {},
   "outputs": [],
   "source": [
    "df['age_approx'] = df['age_approx'].fillna(df['age_approx'].median())\n",
    "df['anatom_site_general'] = df['anatom_site_general'].fillna('desconocido')\n",
    "df['diagnosis'] = df['diagnosis'].fillna('desconocido')\n",
    "df['diagnosis_confirm_type'] = df['diagnosis_confirm_type'].fillna('desconocido')"
   ]
  },
  {
   "cell_type": "code",
   "execution_count": null,
   "id": "25064d96",
   "metadata": {},
   "outputs": [],
   "source": [
    "df.isnull().sum()"
   ]
  },
  {
   "cell_type": "markdown",
   "id": "767dabf8",
   "metadata": {},
   "source": [
    "Borramos los valores nulos de la variable objetivo"
   ]
  },
  {
   "cell_type": "code",
   "execution_count": null,
   "id": "4149d690",
   "metadata": {},
   "outputs": [],
   "source": [
    "df = df.dropna(subset=['benign_malignant'])"
   ]
  },
  {
   "cell_type": "code",
   "execution_count": null,
   "id": "1e1a9bea",
   "metadata": {},
   "outputs": [],
   "source": [
    "df.isnull().sum()"
   ]
  },
  {
   "cell_type": "code",
   "execution_count": null,
   "id": "5d24a325",
   "metadata": {},
   "outputs": [],
   "source": [
    "categorical_cols = [\"diagnosis\", \"age_approx\"]\n",
    "def plot_distribution(data, categorical_columns, target_column):\n",
    "    \n",
    "    fig, axes = plt.subplots(1, 2, figsize = (20, 6))\n",
    "    \n",
    "    col1 = categorical_columns[1]\n",
    "    sns.countplot(data = data, x = col1, hue = target_column, palette = 'Set1', ax = axes[0])\n",
    "    axes[0].set_title(f'Distribución de benigno/maligno para edad aproximada')\n",
    "    axes[0].set_xlabel(\"Edad aproximada\")\n",
    "    axes[0].set_ylabel('Cantidad')\n",
    "    axes[0].legend(title = \"Leyenda de colores\")\n",
    "    axes[0].tick_params(axis = 'x', rotation = 90)\n",
    "    \n",
    "    col2 = \"age_approx\"\n",
    "    density_data = data.groupby(['diagnosis', col2]).size().reset_index(name = 'count')\n",
    "    sns.scatterplot(data = density_data, x = 'diagnosis', y = col2, size = 'count', sizes = (20, 200), legend = False, ax = axes[1])\n",
    "    axes[1].set_title(f'Densidad de benigno/maligno por diagnóstico y edad')\n",
    "    axes[1].set_xlabel('Diagnosis')\n",
    "    axes[1].set_ylabel('Edad aproximada')\n",
    "    axes[1].tick_params(axis = 'x', rotation = 90)\n",
    "    \n",
    "    plt.tight_layout()\n",
    "    plt.show()\n",
    "\n",
    "plot_distribution(df, categorical_cols, 'benign_malignant')"
   ]
  },
  {
   "cell_type": "code",
   "execution_count": null,
   "id": "0f9fce33",
   "metadata": {},
   "outputs": [],
   "source": []
  }
 ],
 "metadata": {
  "kernelspec": {
   "display_name": "Python 3",
   "language": "python",
   "name": "python3"
  },
  "language_info": {
   "codemirror_mode": {
    "name": "ipython",
    "version": 3
   },
   "file_extension": ".py",
   "mimetype": "text/x-python",
   "name": "python",
   "nbconvert_exporter": "python",
   "pygments_lexer": "ipython3",
   "version": "3.12.10"
  }
 },
 "nbformat": 4,
 "nbformat_minor": 5
}

{
 "cells": [
  {
   "cell_type": "code",
   "execution_count": null,
   "id": "3b8af319",
   "metadata": {},
   "outputs": [
    {
     "ename": "",
     "evalue": "",
     "output_type": "error",
     "traceback": [
      "\u001b[1;31mThe kernel failed to start as the Python Environment 'Python' is no longer available. Consider selecting another kernel or refreshing the list of Python Environments."
     ]
    }
   ],
   "source": [
    "\n",
    "import tensorflow as tf\n",
    "import numpy as np\n",
    "import matplotlib.pyplot as plt\n",
    "import os\n",
    "import pandas as pd\n",
    "from sklearn.utils import class_weight\n",
    "import numpy as np\n",
    "from tensorflow.keras import layers, models"
   ]
  },
  {
   "cell_type": "code",
   "execution_count": null,
   "id": "c548f9d9",
   "metadata": {},
   "outputs": [],
   "source": [
    "image_dir = \"Data/images\"\n",
    "\n",
    "data = pd.read_csv(\"Data/metadata.csv\")\n",
    "data_uni = data.drop_duplicates()\n",
    "print(data_uni.size)\n",
    "\n",
    "\n",
    "data_uni[\"filename\"] = data_uni[\"isic_id\"] + \".jpg\"\n",
    "\n",
    "data_uni[\"label\"] = data_uni[\"benign_malignant\"]\n",
    "\n",
    "data_uni[\"label_index\"] = data_uni[\"label\"].astype(\"category\").cat.codes\n",
    "label_names = data_uni[\"label\"].astype(\"category\").cat.categories.tolist()\n",
    "\n",
    "print(f\"Diagnosis {label_names}\")\n",
    "print(data_uni[\"label\"].head(20))\n"
   ]
  },
  {
   "cell_type": "code",
   "execution_count": null,
   "id": "d4c8f73d",
   "metadata": {},
   "outputs": [],
   "source": [
    "\n",
    "data_uni = data_uni.loc[\n",
    "    (data_uni[\"benign_malignant\"] == \"benign\") | \n",
    "    (data_uni[\"benign_malignant\"] == \"malignant\"),\n",
    "    \"label_index\"\n",
    "]\n",
    "data_uni[\"filepath\"] = data_uni[\"filename\"].apply(lambda fname: os.path.join(image_dir, fname))\n",
    "data_uni = data_uni[data_uni[\"filepath\"].apply(os.path.exists)]\n",
    "\n",
    "filepaths = data_uni[\"filepath\"].tolist()\n",
    "labels = data_uni[\"label_index\"].tolist()\n",
    "# Crear dataset\n",
    "def load_image(path, label):\n",
    "    image = tf.io.read_file(path)\n",
    "    image = tf.image.decode_jpeg(image, channels=3)\n",
    "    image = tf.image.resize(image, [224, 224])\n",
    "    image = image / 255.0\n",
    "    return image, tf.cast(label, tf.int32)\n",
    "\n",
    "dataset = tf.data.Dataset.from_tensor_slices((filepaths, labels))\n",
    "dataset = dataset.map(load_image).shuffle(1000).batch(32).prefetch(tf.data.AUTOTUNE)\n",
    "\n",
    "val_size = int(0.2 * len(filepaths))\n",
    "val_ds = dataset.take(val_size)\n",
    "train_ds = dataset.skip(val_size)"
   ]
  },
  {
   "cell_type": "code",
   "execution_count": null,
   "id": "db4ea4b7",
   "metadata": {},
   "outputs": [],
   "source": [
    "# Calcular pesos según la frecuencia\n",
    "class_weights = class_weight.compute_class_weight(\n",
    "    class_weight='balanced',\n",
    "    classes=np.unique(data_uni[\"label_index\"]),\n",
    "    y=data_uni[\"label_index\"]\n",
    ")\n",
    "class_weights = dict(enumerate(class_weights))\n",
    "print(\"Pesos para clases:\", class_weights)\n",
    "\n",
    "\n",
    "model = models.Sequential([\n",
    "    layers.Input(shape=(224, 224, 3)),\n",
    "    layers.Conv2D(32, (3, 3), activation='relu'),\n",
    "    layers.MaxPooling2D(),\n",
    "    layers.Conv2D(64, (3, 3), activation='relu'),\n",
    "    layers.MaxPooling2D(),\n",
    "    layers.Flatten(),\n",
    "    layers.Dense(128, activation='relu'),\n",
    "    layers.Dense(1, activation='sigmoid')  \n",
    "])\n",
    "\n",
    "model.compile(\n",
    "    optimizer='adam',\n",
    "    loss='binary_crossentropy',\n",
    "    metrics=['accuracy']\n",
    ")\n",
    "\n",
    "model.summary()\n",
    "\n"
   ]
  },
  {
   "cell_type": "code",
   "execution_count": null,
   "id": "b21f9457",
   "metadata": {},
   "outputs": [],
   "source": [
    "model.fit(\n",
    "    train_ds,\n",
    "    validation_data=val_ds,\n",
    "    epochs=10,\n",
    "    class_weight=class_weights\n",
    ")"
   ]
  }
 ],
 "metadata": {
  "kernelspec": {
   "display_name": "Python 3",
   "language": "python",
   "name": "python3"
  },
  "language_info": {
   "name": "python",
   "version": "undefined.undefined.undefined"
  }
 },
 "nbformat": 4,
 "nbformat_minor": 5
}
